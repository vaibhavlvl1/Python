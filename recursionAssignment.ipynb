{
 "cells": [
  {
   "cell_type": "code",
   "execution_count": null,
   "id": "a6cf13c5-3772-4788-992b-5f71689ecb8a",
   "metadata": {},
   "outputs": [],
   "source": [
    "# Geometric sum\n",
    "\n",
    "def geometricSum(k,sumi):\n",
    "    if k==0:\n",
    "        return 1\n",
    "    sumi = 1/(2**k)\n",
    "    sumi = sumi + geometricSum(k-1,sumi)\n",
    "    return sumi\n",
    "\n",
    "\n",
    "k = int(input())\n",
    "print(\"%.5f\" %geometricSum(k,0))\n",
    "    \n",
    "# decreasing k sometimes is not a good idea take another variable then"
   ]
  },
  {
   "cell_type": "code",
   "execution_count": null,
   "id": "3dc9a55d-5e83-4440-bad1-87b6307b24bb",
   "metadata": {},
   "outputs": [],
   "source": [
    "# check Palindrome using recursion\n",
    "\n",
    "def check(s):\n",
    "    i = 0\n",
    "    j = len(s)-1\n",
    "    if i>=j:\n",
    "        return True\n",
    "    if s[i] == s[j]:\n",
    "        x = check(s[i+1:j])\n",
    "        return x==True\n",
    "\n",
    "s = input().strip()\n",
    "print(check(s))"
   ]
  },
  {
   "cell_type": "code",
   "execution_count": null,
   "id": "fc4d59cc-293c-459e-8b85-fb33ce1d9c02",
   "metadata": {},
   "outputs": [],
   "source": [
    "# simplified\n",
    "\n",
    "def check(s):\n",
    "    if len(s)==0:\n",
    "        return True\n",
    "    \n",
    "    if s[0] != s[-1]:\n",
    "        return False\n",
    "    \n",
    "    return check(s[1:-1])"
   ]
  },
  {
   "cell_type": "code",
   "execution_count": null,
   "id": "a0f49b37-29cf-478a-8b69-f1f240756529",
   "metadata": {},
   "outputs": [],
   "source": [
    "# sum of digits\n",
    "\n",
    "def sumofDigits(n,total):\n",
    "    if n==0:\n",
    "        return total\n",
    "    \n",
    "    total = total + n%10\n",
    "    return sumofDigits(n//10,total)\n",
    "\n",
    "\n",
    "n = int(input())\n",
    "print(sumofDigits(n,0))\n"
   ]
  },
  {
   "cell_type": "code",
   "execution_count": null,
   "id": "1998af0f-4eaa-4755-b5dd-7ffa73da7305",
   "metadata": {},
   "outputs": [],
   "source": [
    "#simplified\n",
    "def sumDigit(n):\n",
    "    if n<10:\n",
    "        return n\n",
    "    return n%10 + sumDigit(n//10)\n",
    "\n",
    "\n",
    "n = int(input())\n",
    "sumDigit(n)"
   ]
  },
  {
   "cell_type": "code",
   "execution_count": 35,
   "id": "17770d2c-b878-4c6a-962e-3b629f6ea9b6",
   "metadata": {},
   "outputs": [
    {
     "name": "stdin",
     "output_type": "stream",
     "text": [
      " 1\n",
      " 8\n"
     ]
    },
    {
     "data": {
      "text/plain": [
       "8"
      ]
     },
     "execution_count": 35,
     "metadata": {},
     "output_type": "execute_result"
    }
   ],
   "source": [
    "# multiplication using recursion\n",
    "def mul(m,n,k):\n",
    "    if k==n:\n",
    "        return 0\n",
    "    return m+ mul(m,n,k+1)\n",
    "\n",
    "m = int(input())\n",
    "n = int(input())\n",
    "mul(m,n,0)"
   ]
  },
  {
   "cell_type": "code",
   "execution_count": 11,
   "id": "e28847fa-b62c-4308-acd9-016b6fe769bb",
   "metadata": {},
   "outputs": [
    {
     "name": "stdin",
     "output_type": "stream",
     "text": [
      " 00022200\n"
     ]
    },
    {
     "name": "stdout",
     "output_type": "stream",
     "text": [
      "2\n"
     ]
    }
   ],
   "source": [
    "# count number of zeros in integer\n",
    "\n",
    "def countZero(n):\n",
    "    if n<10 and n>0:    # this line is counter n==0 as input base case\n",
    "        return 0\n",
    "    if n==0:            # this line is counter n==0 as input\n",
    "        return 1\n",
    "    if n%10 == 0:\n",
    "        return 1+countZero(n//10)\n",
    "    else:\n",
    "        return countZero(n//10)\n",
    "    \n",
    "\n",
    "n = int(input())\n",
    "print(countZero(n))"
   ]
  },
  {
   "cell_type": "code",
   "execution_count": 33,
   "id": "a3a25b9d-cde6-4537-b063-8e6c936f7e22",
   "metadata": {},
   "outputs": [
    {
     "name": "stdin",
     "output_type": "stream",
     "text": [
      " 58790\n"
     ]
    },
    {
     "data": {
      "text/plain": [
       "58790"
      ]
     },
     "execution_count": 33,
     "metadata": {},
     "output_type": "execute_result"
    }
   ],
   "source": [
    "# convert string to integer\n",
    "\n",
    "\n",
    "def convert(s,num):\n",
    "    if len(s)==1:\n",
    "        return int(s[0])\n",
    "    num = int(s[0])*(10**(len(s)-1))\n",
    "    return num + convert(s[1:],num)\n",
    "\n",
    "convert(input(),0)"
   ]
  },
  {
   "cell_type": "code",
   "execution_count": null,
   "id": "011bef23-5886-4bb1-af00-e290190ad8d4",
   "metadata": {},
   "outputs": [],
   "source": [
    "# Pair Star\n",
    "\"\"\"\n",
    "Given a string S, compute recursively a new string where identical chars that are \n",
    "adjacent in the original string are separated from each other by a \"*\".\n",
    "\"\"\"\n",
    "\n",
    "def pair_star(s):\n",
    "    if len(s)==1:\n",
    "        return s\n",
    "    if s[0] == s[1]:\n",
    "        return s[0]+\"*\"+pair_star(s[1:])\n",
    "    else:\n",
    "        return s[0]+pair_star(s[1:])\n",
    "    \n",
    "s = input()\n",
    "print(pair_star(s))\n",
    "    "
   ]
  },
  {
   "cell_type": "code",
   "execution_count": null,
   "id": "b9595954-e570-47fd-a483-4968a65b99f5",
   "metadata": {},
   "outputs": [],
   "source": [
    "# check AB\n",
    "# Suppose you have a string, S, made up of only 'a's and 'b's. \n",
    "# Write a recursive function that checks if the string was generated using the \n",
    "# following rules:\n",
    "\n",
    "# a. The string begins with an 'a'\n",
    "# b. Each 'a' is followed by nothing or an 'a' or \"bb\"\n",
    "# c. Each \"bb\" is followed by nothing or an 'a'\n",
    "\n",
    "# If all the rules are followed by the given string, return true otherwise return false.\n",
    "\n",
    "\n",
    "def checkAB(s):\n",
    "    if len(s)==0:\n",
    "        return \"true\"\n",
    "    if s[0]==\"a\":\n",
    "        if len(s)>1 and s[1:3] ==\"bb\":\n",
    "            return checkAB(s[3:])\n",
    "        else:\n",
    "            return checkAB(s[1:])\n",
    "    else:\n",
    "        return \"false\"       \n",
    "\n",
    "\n",
    "str=input()\n",
    "print(checkAB(str))"
   ]
  },
  {
   "cell_type": "code",
   "execution_count": null,
   "id": "92f02eb4-996e-4a67-b121-f947d008b179",
   "metadata": {},
   "outputs": [],
   "source": [
    "# staircase problem\n",
    "\n",
    "# A child is running up a staircase with N steps, and can hop either 1 step, \n",
    "# 2 steps or 3 steps at a time. Implement a method to count how many possible ways \n",
    "# the child can run up to the stairs. You need to return number of possible ways W.\n",
    "# Input format :\n",
    "\n",
    "# Integer N\n",
    "\n",
    "# Output Format :\n",
    "\n",
    "# Integer W\n",
    "\n",
    "\n",
    "def staircase(n):\n",
    "    if n==0 or n==1:\n",
    "        return 1\n",
    "    elif n==2:\n",
    "        return 2\n",
    "    else:\n",
    "        return staircase(n-1) + staircase(n-2)+staircase(n-3)\n",
    "\n",
    "n = int(input())\n",
    "print(staircase(n))\n",
    "    \n"
   ]
  }
 ],
 "metadata": {
  "kernelspec": {
   "display_name": "Python 3 (ipykernel)",
   "language": "python",
   "name": "python3"
  },
  "language_info": {
   "codemirror_mode": {
    "name": "ipython",
    "version": 3
   },
   "file_extension": ".py",
   "mimetype": "text/x-python",
   "name": "python",
   "nbconvert_exporter": "python",
   "pygments_lexer": "ipython3",
   "version": "3.10.6"
  }
 },
 "nbformat": 4,
 "nbformat_minor": 5
}
