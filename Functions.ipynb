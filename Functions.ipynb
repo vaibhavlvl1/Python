{
 "cells": [
  {
   "cell_type": "code",
   "execution_count": null,
   "id": "587c6e92-2a61-4d27-8f89-f8ff04f7c95d",
   "metadata": {},
   "outputs": [],
   "source": [
    "# Fahrenheit to Celsius Function\n",
    "\n",
    "\n",
    "def FtoC(s,e,step):\n",
    "    for i in range(s,e+1,step):\n",
    "        c = (i-32)*(5/9)\n",
    "        print(i,\" \",int(c))\n",
    "        \n",
    "s,e,step = int(input()),int(input()),int(input())\n",
    "FtoC(s,e,step)"
   ]
  },
  {
   "cell_type": "code",
   "execution_count": null,
   "id": "8cf3fc8a-1579-4579-b3ce-4b5f96331ee5",
   "metadata": {},
   "outputs": [],
   "source": [
    "#Fibonacci Member\n",
    "\n",
    "def checkFib(n):\n",
    "    if n==1 or n==2:\n",
    "        return True\n",
    "    # assuming fib starts from 1,1,2,3,5,8.....\n",
    "    ft = 1\n",
    "    st = 1\n",
    "    \n",
    "    i = 3\n",
    "    while i<=n:\n",
    "        tt = ft+st\n",
    "        if tt == n:\n",
    "            return True\n",
    "        ft = st\n",
    "        st = tt\n",
    "        i = i+1\n",
    "        \n",
    "    return False\n",
    "\n",
    "\n",
    "\n",
    "n = int(input())\n",
    "print(checkFib(n))"
   ]
  },
  {
   "cell_type": "code",
   "execution_count": null,
   "id": "bf4875a0-ad40-4521-89de-f137bd6cf427",
   "metadata": {},
   "outputs": [],
   "source": [
    "# check Palindrome\n",
    "\n",
    "def palindrome(n):\n",
    "    rev_num = 0\n",
    "    N = n\n",
    "    \n",
    "    while N!=0:\n",
    "        rev_num = 10*rev_num + N%10\n",
    "        N = N//10\n",
    "    #print(n,\" \",rev_num)\n",
    "    if n==rev_num:\n",
    "        return True\n",
    "    else:\n",
    "        return False\n",
    "\n",
    "    \n",
    "n = int(input())\n",
    "print(palindrome(n))"
   ]
  },
  {
   "cell_type": "code",
   "execution_count": 48,
   "id": "f387ebf2-f032-4992-aeaa-c86ea985aac8",
   "metadata": {},
   "outputs": [
    {
     "name": "stdin",
     "output_type": "stream",
     "text": [
      " 153\n"
     ]
    },
    {
     "data": {
      "text/plain": [
       "True"
      ]
     },
     "execution_count": 48,
     "metadata": {},
     "output_type": "execute_result"
    }
   ],
   "source": [
    "# check Armstrong\n",
    "\n",
    "def checkArmstrong(n):\n",
    "    N = n\n",
    "    digitSum = 0\n",
    "    \n",
    "    while N!=0:\n",
    "        digitSum = digitSum + (N%10)**3\n",
    "        N = N//10\n",
    "    \n",
    "    \n",
    "    \n",
    "    \n",
    "    #print(n,\" \",digitSum)    \n",
    "    if digitSum==n:\n",
    "        return True\n",
    "    else:\n",
    "        return False\n",
    "n = int(input())    \n",
    "checkArmstrong(n)"
   ]
  },
  {
   "cell_type": "code",
   "execution_count": null,
   "id": "b256462b-2171-49da-a112-c324e2e9e816",
   "metadata": {},
   "outputs": [],
   "source": []
  }
 ],
 "metadata": {
  "kernelspec": {
   "display_name": "Python 3 (ipykernel)",
   "language": "python",
   "name": "python3"
  },
  "language_info": {
   "codemirror_mode": {
    "name": "ipython",
    "version": 3
   },
   "file_extension": ".py",
   "mimetype": "text/x-python",
   "name": "python",
   "nbconvert_exporter": "python",
   "pygments_lexer": "ipython3",
   "version": "3.10.6"
  }
 },
 "nbformat": 4,
 "nbformat_minor": 5
}
