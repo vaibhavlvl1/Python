{
 "cells": [
  {
   "cell_type": "code",
   "execution_count": null,
   "id": "43749f2d-e16e-4e29-bd19-8919935ba5a6",
   "metadata": {},
   "outputs": [],
   "source": [
    "# Binary Search Code\n",
    "# UB / LB /M method . Needs previously sorted array.\n",
    "# TC = worst case O(logn) best case = O(1) if m is target\n",
    "\n",
    "def binarySearch(n,arr,target):\n",
    "    lb = 0\n",
    "    ub = n-1\n",
    "    m = 0\n",
    "    \n",
    "    while lb<=ub:\n",
    "        m = (ub+lb)//2\n",
    "        if arr[m] == target:\n",
    "            return m\n",
    "        \n",
    "        elif arr[m] < target:\n",
    "            lb = m+1\n",
    "        else:\n",
    "            ub = m-1\n",
    "    return -1\n",
    "\n",
    "\n",
    "\n",
    "# main\n",
    "\n",
    "n = int(input())\n",
    "arr = [int(x) for x in input().split()]\n",
    "\n",
    "t = int(input())\n",
    "while t!=0:\n",
    "    target = int(input())\n",
    "    print(binarySearch(n,arr,target))\n",
    "    t =t-1\n",
    "    "
   ]
  },
  {
   "cell_type": "code",
   "execution_count": 21,
   "id": "590d6b03-debc-43c2-99c5-6b15415d22e5",
   "metadata": {},
   "outputs": [
    {
     "name": "stdout",
     "output_type": "stream",
     "text": [
      "[0, 0.5, 1, 2, 4, 4, 7, 9, 14, 18, 18]\n"
     ]
    }
   ],
   "source": [
    "# selection sort\n",
    "# time complexity O(n**2)\n",
    "\n",
    "def selectionSort(n,arr):\n",
    "    for i in range(n):\n",
    "        mini = i\n",
    "        for j in range(i+1,n):\n",
    "            if arr[mini]>arr[j]:\n",
    "                mini = j\n",
    "        arr[i],arr[mini] = arr[mini],arr[i]\n",
    "                \n",
    "    \n",
    "                \n",
    "    \n",
    "n = int(input())\n",
    "arr = [int(x) for x in input().split()]\n",
    "selectionSort(n,arr)\n",
    "print(arr)"
   ]
  },
  {
   "cell_type": "code",
   "execution_count": 36,
   "id": "93782028-1cf6-4026-8933-f15301fcc8ae",
   "metadata": {},
   "outputs": [
    {
     "name": "stdout",
     "output_type": "stream",
     "text": [
      "[1, 2, 3, 7, 10]\n"
     ]
    }
   ],
   "source": [
    "# bubble sort \n",
    "# TC worst O(n**2)\n",
    "# can be done with lot of variation of loops\n",
    "# optimized\n",
    "def bubbleSort(n,arr):\n",
    "    for i in range(n):\n",
    "        for j in range(n-1-i):\n",
    "            if arr[j]>arr[j+1]:\n",
    "                arr[j],arr[j+1] = arr[j+1],arr[j]\n",
    "    return arr\n",
    "    \n",
    "n =5 #int(input())\n",
    "arr =[10,2,7,3,1] #[int(x) for x in input().split()]\n",
    "sortedarr = bubbleSort(n,arr)\n",
    "print(sortedarr)"
   ]
  },
  {
   "cell_type": "code",
   "execution_count": 6,
   "id": "2e9d6eea-1563-4f21-8d0c-93b57e0fb41a",
   "metadata": {},
   "outputs": [
    {
     "name": "stdout",
     "output_type": "stream",
     "text": [
      "[1, 2, 3, 7, 10]\n"
     ]
    }
   ],
   "source": [
    "# not optimized\n",
    "def bubbleSort(n,arr):\n",
    "    for i in range(n):\n",
    "        for j in range(n-1):\n",
    "            if arr[j]>arr[j+1]:\n",
    "                arr[j],arr[j+1] = arr[j+1],arr[j]\n",
    "    return arr\n",
    "\n",
    "n =5 #int(input())\n",
    "arr =[10,2,7,3,1] #[int(x) for x in input().split()]\n",
    "sortedarr = bubbleSort(n,arr)\n",
    "print(sortedarr)"
   ]
  },
  {
   "cell_type": "code",
   "execution_count": 4,
   "id": "40815309-9c92-4875-80f1-8634fe2e3f16",
   "metadata": {},
   "outputs": [
    {
     "name": "stdout",
     "output_type": "stream",
     "text": [
      "[1, 2, 3, 4, 5, 6, 7, 8, 9]\n"
     ]
    }
   ],
   "source": [
    "# insertion sort\n",
    "# Time Complexity O(n**2)\n",
    "\n",
    "def insertSort(n,arr):\n",
    "    for i in range(1,n):\n",
    "        j = i\n",
    "        while arr[j-1]> arr[j] and j>0:\n",
    "            arr[j-1],arr[j] = arr[j],arr[j-1]\n",
    "            j = j-1\n",
    "        \n",
    "arr = [9,8,7,6,5,4,3,2,1]\n",
    "n = len(arr)\n",
    "insertSort(n,arr)\n",
    "print(arr)\n",
    "                "
   ]
  },
  {
   "cell_type": "markdown",
   "id": "53734374-8d10-44b7-8dab-65b0d295a999",
   "metadata": {},
   "source": [
    "# Assignment"
   ]
  },
  {
   "cell_type": "code",
   "execution_count": null,
   "id": "063bc260-c988-4419-b53d-d6a0fc44dc4d",
   "metadata": {},
   "outputs": [],
   "source": [
    "# Merge two Sorted arrays\n",
    "\n",
    "def mergeArrays(n1,arr1,n2,arr2):\n",
    "    i = 0\n",
    "    j = 0\n",
    "    res = []\n",
    "    \n",
    "    while i<n1 and j < n2:\n",
    "        if arr1[i] < arr2[j]:\n",
    "            res.append(arr1[i])\n",
    "            i = i+1\n",
    "            \n",
    "        else:\n",
    "            res.append(arr2[j])\n",
    "            j = j+1\n",
    "    while i<n1:\n",
    "        res.append(arr1[i])\n",
    "        i = i+1\n",
    "    while j <n2:\n",
    "        res.append(arr2[j])\n",
    "        j = j+1\n",
    "    return res\n",
    "\n",
    "\n",
    "\n",
    "\n",
    "        \n",
    "        \n",
    "def takeInput():\n",
    "    n = int(input())\n",
    "    if n == 0:\n",
    "        return [],0\n",
    "    else:\n",
    "        arr = [int(x) for x in input().split()]\n",
    "        return arr,n\n",
    "t = int(input())\n",
    "\n",
    "def printArray(arr):\n",
    "    for ele in arr:\n",
    "        print(ele,end=\" \")\n",
    "    print()                        # This Line is very Important\n",
    "\n",
    "while t!=0:\n",
    "    arr1,n1 = takeInput()\n",
    "    arr2,n2 = takeInput()\n",
    "    res = mergeArrays(n1,arr1,n2,arr2)\n",
    "    printArray(res)\n",
    "    t = t-1"
   ]
  },
  {
   "cell_type": "code",
   "execution_count": 25,
   "id": "2fc341ea-412c-4824-bd20-81f0034f22b8",
   "metadata": {},
   "outputs": [
    {
     "name": "stdin",
     "output_type": "stream",
     "text": [
      " 1\n",
      " 5\n",
      " 0 1 0 2 3\n"
     ]
    },
    {
     "name": "stdout",
     "output_type": "stream",
     "text": [
      "[1, 2, 3, 0, 0]\n"
     ]
    }
   ],
   "source": [
    "# push zeros to the end\n",
    "\n",
    "\n",
    "def pushZero(n,arr):\n",
    "    temp = 0\n",
    "    \n",
    "    for i in range(n):\n",
    "        if arr[i] !=0:\n",
    "            arr[temp] = arr[i]\n",
    "            temp = temp+1\n",
    "            \n",
    "    while temp<n:\n",
    "        arr[temp] =0\n",
    "        temp = temp+1\n",
    "            \n",
    "            \n",
    "# main \n",
    "t = int(input())\n",
    "\n",
    "while t!=0:\n",
    "    n = int(input())\n",
    "    arr = [int(x) for x in input().split()]\n",
    "    pushZero(n,arr)\n",
    "    print(arr)\n",
    "    t = t-1"
   ]
  },
  {
   "cell_type": "code",
   "execution_count": 38,
   "id": "884f7754-b6bb-43e7-a5a8-8de791a06d8d",
   "metadata": {},
   "outputs": [
    {
     "name": "stdin",
     "output_type": "stream",
     "text": [
      " 1\n",
      " 7\n",
      " 1 2 3 4 5 6 7\n",
      " 2\n"
     ]
    },
    {
     "name": "stdout",
     "output_type": "stream",
     "text": [
      "3 4 5 6 7 1 2 \n"
     ]
    }
   ],
   "source": [
    "# rotate given array\n",
    "# Time Complexity O(n**2)\n",
    "\n",
    "\n",
    "def rotate(n,arr,amount):\n",
    "    for i in range(amount):\n",
    "        temp = arr[0]\n",
    "        \n",
    "        for j in range(n-1):\n",
    "            arr[j] = arr[j+1]\n",
    "            \n",
    "        arr[-1] = temp\n",
    "            \n",
    "t = int(input())\n",
    "\n",
    "for t in range(t):\n",
    "    n = int(input())\n",
    "    if n==0:\n",
    "        break\n",
    "    \n",
    "    arr=[int(x) for x in input().split()]\n",
    "    \n",
    "    amount=int(input())\n",
    "    \n",
    "    \n",
    "    rotate(n,arr,amount)\n",
    "    \n",
    "    for ele in arr:\n",
    "        print(ele,end=\" \")\n",
    "        \n",
    "    print()\n",
    "        \n",
    "    "
   ]
  },
  {
   "cell_type": "code",
   "execution_count": 45,
   "id": "0af2db7f-4fdb-41e0-88fa-f99cd544cfc2",
   "metadata": {},
   "outputs": [
    {
     "name": "stdout",
     "output_type": "stream",
     "text": [
      "[12, 17, 1, 3, 6, 11]\n"
     ]
    }
   ],
   "source": [
    "# rotate given array\n",
    "def reverse(start,end,arr):\n",
    "    while start<end:\n",
    "        arr[start],arr[end] = arr[end],arr[start]\n",
    "        start +=1\n",
    "        end -=1\n",
    "\n",
    "def rotate(n,arr,k):\n",
    "    reverse(0,n-1,arr)\n",
    "    reverse(0,n-k-1,arr)\n",
    "    reverse(n-k,n-1,arr)\n",
    "    \n",
    "    \n",
    "t = int(input())\n",
    "\n",
    "for t in range(t):\n",
    "    n = int(input())\n",
    "    if n==0:\n",
    "        break\n",
    "    \n",
    "    arr=[int(x) for x in input().split()]\n",
    "    \n",
    "    amount=int(input())\n",
    "    \n",
    "    \n",
    "    rotate(n,arr,amount)\n",
    "    \n",
    "    for ele in arr:\n",
    "        print(ele,end=\" \")\n",
    "        \n",
    "    print()\n",
    "        \n",
    "    "
   ]
  },
  {
   "cell_type": "code",
   "execution_count": 49,
   "id": "8ad9a04c-bb84-4ed4-bf97-78152471fa2a",
   "metadata": {},
   "outputs": [
    {
     "name": "stdin",
     "output_type": "stream",
     "text": [
      " 1\n",
      " 8\n",
      "  11 2 3 4 5 6 7 92\n"
     ]
    },
    {
     "name": "stdout",
     "output_type": "stream",
     "text": [
      "11\n"
     ]
    }
   ],
   "source": [
    "#second Largest in an array\n",
    "\n",
    "\n",
    "MIN_VALUE = -2147483648\n",
    "def secLargest(n,arr):\n",
    "    largest = arr[0]\n",
    "    sec = MIN_VALUE\n",
    "    for i in range(n):\n",
    "        if largest< arr[i]:\n",
    "            sec = largest\n",
    "            largest = arr[i]\n",
    "        elif sec<arr[i] and arr[i]!=largest:\n",
    "            sec = arr[i]\n",
    "    if largest == sec:\n",
    "        return MIN_VALUE\n",
    "                \n",
    "            \n",
    "    return sec\n",
    "\n",
    "\n",
    "\n",
    "\n",
    "\n",
    "\n",
    "\n",
    "\n",
    "\n",
    "\n",
    "t = int(input())\n",
    "while t!=0:\n",
    "    n = int(input())\n",
    "    if n==0:\n",
    "        print(\"-2147483648\")\n",
    "        break\n",
    "    arr = [int(x) for x in input().split()]\n",
    "    print(secLargest(n,arr))\n",
    "    t = t-1"
   ]
  },
  {
   "cell_type": "code",
   "execution_count": null,
   "id": "e6670d15-615b-46e0-871b-1ce94ada6844",
   "metadata": {},
   "outputs": [],
   "source": [
    "## Check array rotation\n",
    "# array is sorted and rotated by certain amount. find that amount\n",
    "\n",
    "\n",
    "def checkRotation(n,arr):\n",
    "    min = arr[0]\n",
    "    k = 0\n",
    "    for i in range(n):\n",
    "        if arr[i]<min:\n",
    "            min = arr[i]\n",
    "            k = i\n",
    "            \n",
    "    return k\n",
    "\n",
    "# Main\n",
    "t = int(input())\n",
    "\n",
    "while(t!=0):\n",
    "    \n",
    "    n=int(input())\n",
    "    if n==0:\n",
    "        print('0')\n",
    "        break\n",
    "    arr = [int(x) for x in input().split()]\n",
    "    \n",
    "    print(checkRotation(n,arr))\n",
    "    \n",
    "    t=t-1"
   ]
  },
  {
   "cell_type": "code",
   "execution_count": 28,
   "id": "13a745ee-42dd-4b00-b58c-559ca4bcbf26",
   "metadata": {},
   "outputs": [
    {
     "name": "stdout",
     "output_type": "stream",
     "text": [
      "[0, 0, 1, 1, 2, 2]\n"
     ]
    }
   ],
   "source": [
    "# Sort 0 1 2\n",
    "\n",
    "def sort012(n,arr):\n",
    "    zeroPos = 0\n",
    "    twoPos = n-1\n",
    "    i = 0\n",
    "    # zero pos swapping\n",
    "    while i<=twoPos:\n",
    "        if arr[i] ==0:\n",
    "            temp = arr[zeroPos]\n",
    "            arr[zeroPos] =arr[i]\n",
    "            arr[i] = temp\n",
    "            i = i+1\n",
    "            zeroPos +=1\n",
    "        elif arr[i] == 2:\n",
    "            temp = arr[twoPos]\n",
    "            arr[twoPos] = arr[i]\n",
    "            arr[i] = temp\n",
    "            twoPos -=1\n",
    "            #i =i+1               this is reason for wrong answer\n",
    "        else:\n",
    "            i = i+1\n",
    "    \n",
    "            \n",
    "arr = [2, 1, 0, 1, 2, 0 ]\n",
    "n = len(arr)\n",
    "sort012(n,arr)\n",
    "print(arr)"
   ]
  },
  {
   "cell_type": "code",
   "execution_count": 1,
   "id": "028ab174-a7b5-4cbf-8250-845d556c4855",
   "metadata": {},
   "outputs": [
    {
     "name": "stdout",
     "output_type": "stream",
     "text": [
      "[0, 2, 2, 2]\n"
     ]
    }
   ],
   "source": [
    "from sys import stdin\n",
    "\n",
    "def sumArrays(A,lA,B,lB,output):\n",
    "    i = lA-1\n",
    "    j = lB-1\n",
    "    carry  = 0\n",
    "    k = max(lA,lB)\n",
    "    # output = [0]*(k+1)  \n",
    "    while i>=0 and j >=0:\n",
    "        sumn = A[i]+B[j] + carry   # cant use sum\n",
    "        output[k] = sumn%10\n",
    "        carry = sumn//10\n",
    "        k -=1\n",
    "        i -=1\n",
    "        j -=1\n",
    "        \n",
    "    while i>=0:\n",
    "        sumn = A[i] +carry\n",
    "        output[k] = sumn%10\n",
    "        carry = sumn//10\n",
    "        i -=1\n",
    "        k -=1\n",
    "        \n",
    "    while j>=0:\n",
    "        sumn = B[j] +carry\n",
    "        output[k] = sumn%10\n",
    "        carry = sumn//10\n",
    "        j -=1\n",
    "        k -=1\n",
    "    output[0] = carry\n",
    "    return output\n",
    "\n",
    "\n",
    "\n",
    "#Taking Input Using Fast I/O\n",
    "def takeInput() :\n",
    "    n = int(stdin.readline().rstrip())\n",
    "    if n == 0 :\n",
    "        return list(), 0\n",
    "    \n",
    "    arr = list(map(int, stdin.readline().rstrip().split(\" \")))\n",
    "    return arr, n\n",
    "\n",
    "\n",
    "#to print the array/list\n",
    "def printList(arr, n) :\n",
    "    for i in range(n) :\n",
    "        print(arr[i], end = \" \")\n",
    "    \n",
    "    print()\n",
    "\n",
    "\n",
    "#main\n",
    "t = int(stdin.readline().rstrip())\n",
    "\n",
    "while t > 0 :\n",
    "    arr1, n = takeInput()\n",
    "    arr2, m = takeInput()\n",
    "    \n",
    "    outputSize = (1 + max(n, m))\n",
    "    output = outputSize * [0]\n",
    "    \n",
    "    sumArrays(arr1, n, arr2, m, output)\n",
    "    printList(output, outputSize)\n",
    "    \n",
    "    t -= 1"
   ]
  },
  {
   "cell_type": "code",
   "execution_count": null,
   "id": "dbb684ac-082e-44ec-9670-0e86847756ae",
   "metadata": {},
   "outputs": [],
   "source": []
  }
 ],
 "metadata": {
  "kernelspec": {
   "display_name": "Python 3 (ipykernel)",
   "language": "python",
   "name": "python3"
  },
  "language_info": {
   "codemirror_mode": {
    "name": "ipython",
    "version": 3
   },
   "file_extension": ".py",
   "mimetype": "text/x-python",
   "name": "python",
   "nbconvert_exporter": "python",
   "pygments_lexer": "ipython3",
   "version": "3.10.6"
  }
 },
 "nbformat": 4,
 "nbformat_minor": 5
}
