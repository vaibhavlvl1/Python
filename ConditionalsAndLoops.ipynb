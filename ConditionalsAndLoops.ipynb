{
 "cells": [
  {
   "cell_type": "code",
   "execution_count": null,
   "id": "dad41c56-06f0-436f-bacd-4224a51d0dc6",
   "metadata": {},
   "outputs": [],
   "source": [
    "## Check if number is positive ,negative,or zero\n",
    "\n",
    "\n",
    "def check(n):\n",
    "    if n==0:\n",
    "        print(\"Zero\")\n",
    "    elif n<0:\n",
    "        print(\"Negative\")\n",
    "    elif n>0:\n",
    "        print(\"Positive\")\n",
    "        \n",
    "        \n",
    "# driver\n",
    "n = int(input())\n",
    "check(n)"
   ]
  },
  {
   "cell_type": "code",
   "execution_count": null,
   "id": "15653523-b704-432c-8c95-88545797b6d0",
   "metadata": {},
   "outputs": [],
   "source": [
    "## sum of n numbers from zero to n\n",
    "\n",
    "def sumN(n):\n",
    "    sum = 0\n",
    "    for i in range(n+1):\n",
    "        sum = sum+i\n",
    "    return sum\n",
    "\n",
    "# driver\n",
    "n = int(input())\n",
    "print(sumN(n))"
   ]
  },
  {
   "cell_type": "code",
   "execution_count": null,
   "id": "abca75fe-3389-45f2-9e80-739d663abb76",
   "metadata": {},
   "outputs": [],
   "source": [
    "## print sum of all even numbers from 1 to N\n",
    "\n",
    "def printEven(n):\n",
    "    sum = 0\n",
    "    i = 2\n",
    "    while i<=n:\n",
    "        sum = sum+i\n",
    "        i = i+2\n",
    "    print(sum)\n",
    "    \n",
    "## Driver\n",
    "\n",
    "n = int(input())\n",
    "printEven(n)\n",
    "        "
   ]
  },
  {
   "cell_type": "code",
   "execution_count": null,
   "id": "b097a072-de86-492f-909b-007fd49f3480",
   "metadata": {},
   "outputs": [],
   "source": [
    "# Fahrenheit to Celsius \n",
    "\n",
    "def convert(S,E,step):\n",
    "    for i in range(S,E+1,step):\n",
    "        c = (i - 32)*(5/9)\n",
    "        print(i,int(c))\n",
    "        \n",
    "# driver\n",
    "S = int(input())\n",
    "E = int(input())\n",
    "step = int(input())\n",
    "convert(S,E,step)"
   ]
  },
  {
   "cell_type": "markdown",
   "id": "b6b9387b-86d5-48b3-b81d-ede9ef8065ba",
   "metadata": {},
   "source": [
    "## Assignments\n"
   ]
  },
  {
   "cell_type": "code",
   "execution_count": null,
   "id": "9b037491-c193-4123-931f-a2078ca01fcc",
   "metadata": {},
   "outputs": [],
   "source": [
    "# Calculator\n",
    "\n",
    "\n",
    "while True:\n",
    "    n = int(input())\n",
    "    if n==1:\n",
    "        #print(\"following numbers will be added\")\n",
    "        f = int(input())\n",
    "        s = int(input())\n",
    "        print(f+s)\n",
    "    elif n==2:\n",
    "        #print(\"following numbers will be subtracted\")\n",
    "        f = int(input())\n",
    "        s = int(input())\n",
    "        print(f-s)\n",
    "    elif n==3:\n",
    "        #print(\"following numbers will be multiplied\")\n",
    "        f = int(input())\n",
    "        s = int(input())\n",
    "        print(f*s)\n",
    "    elif n==4:\n",
    "        #print(\"following numbers will be divided\")\n",
    "        f = int(input())\n",
    "        s = int(input())\n",
    "        print(f//s)\n",
    "    elif n==5:\n",
    "        #print(\"following numbers wuill be added\")\n",
    "        f = int(input())\n",
    "        s = int(input())\n",
    "        print(f%s)\n",
    "    elif n ==6:\n",
    "        break\n",
    "    else:\n",
    "        print(\"invalid operation\")\n",
    "        \n",
    "# driver\n",
    "\n",
    "\n",
    "\n"
   ]
  },
  {
   "cell_type": "code",
   "execution_count": 29,
   "id": "56a6302e-a920-4fa4-ad42-ef4852ee6d99",
   "metadata": {},
   "outputs": [
    {
     "name": "stdout",
     "output_type": "stream",
     "text": [
      "54321\n"
     ]
    }
   ],
   "source": [
    "# Reverse of a number \n",
    "\n",
    "\n",
    "def rev(n):\n",
    "    rev_num = 0\n",
    "    \n",
    "    while n!=0:\n",
    "        rev_num = rev_num*10 + n%10\n",
    "        n = n//10\n",
    "    print(rev_num)\n",
    "    \n",
    "# driver\n",
    "n = 12345\n",
    "rev(n)"
   ]
  },
  {
   "cell_type": "code",
   "execution_count": 32,
   "id": "234d194d-2d99-4458-82bb-5e13358e4d46",
   "metadata": {},
   "outputs": [
    {
     "name": "stdin",
     "output_type": "stream",
     "text": [
      " 12345\n"
     ]
    },
    {
     "name": "stdout",
     "output_type": "stream",
     "text": [
      "false\n"
     ]
    }
   ],
   "source": [
    "# palindrome number\n",
    "\n",
    "def rev(n):\n",
    "    rev_num = 0\n",
    "    \n",
    "    while n!=0:\n",
    "        rev_num = rev_num*10 + n%10\n",
    "        n = n//10\n",
    "    return rev_num\n",
    "\n",
    "def palindromeCheck(n):\n",
    "    if n == rev(n):\n",
    "        print(\"true\")\n",
    "    else:\n",
    "        print(\"false\")\n",
    "        \n",
    "num = int(input())\n",
    "palindromeCheck(num)"
   ]
  },
  {
   "cell_type": "code",
   "execution_count": 35,
   "id": "06ce612d-ac9a-4f30-9067-58635a1b54c0",
   "metadata": {},
   "outputs": [
    {
     "name": "stdin",
     "output_type": "stream",
     "text": [
      " 552245\n"
     ]
    },
    {
     "name": "stdout",
     "output_type": "stream",
     "text": [
      "8  15\n"
     ]
    }
   ],
   "source": [
    "# print sum of even and odd separately\n",
    "\n",
    "def printOddEven(n):\n",
    "    even = 0\n",
    "    odd = 0\n",
    "    while n!=0:\n",
    "        digit = n%10\n",
    "        if digit %2==0:\n",
    "            even = even + digit\n",
    "        else:\n",
    "            odd = odd + digit\n",
    "        n = n//10\n",
    "        \n",
    "    print(even,\"\",odd)\n",
    "    \n",
    "#driver\n",
    "n = int(input())\n",
    "printOddEven(n)"
   ]
  },
  {
   "cell_type": "code",
   "execution_count": 44,
   "id": "a9549547-2c0c-4324-af11-a45d47dfc25d",
   "metadata": {},
   "outputs": [
    {
     "name": "stdin",
     "output_type": "stream",
     "text": [
      " 3\n"
     ]
    },
    {
     "name": "stdout",
     "output_type": "stream",
     "text": [
      "2\n"
     ]
    }
   ],
   "source": [
    "### nth Fibonacci number\n",
    "\n",
    "# assuming series starts with 1\n",
    "\n",
    "def getNthFib(n):\n",
    "    first_num = 1\n",
    "    second_num = 1\n",
    "    \n",
    "    if n==1:\n",
    "        print(first_num)\n",
    "    elif n==2:\n",
    "        print(second_num)\n",
    "    \n",
    "    else:\n",
    "        i = 3\n",
    "        while i <=n:\n",
    "            third_num = first_num+second_num\n",
    "            first_num = second_num\n",
    "            second_num = third_num\n",
    "            i = i+1\n",
    "        print(third_num)                   # move this line in while loop to print entire series\n",
    "\n",
    "n = int(input())\n",
    "getNthFib(n)"
   ]
  },
  {
   "cell_type": "code",
   "execution_count": null,
   "id": "789a66c1-14c3-42ca-a499-d30cff9461b5",
   "metadata": {},
   "outputs": [],
   "source": []
  }
 ],
 "metadata": {
  "kernelspec": {
   "display_name": "Python 3 (ipykernel)",
   "language": "python",
   "name": "python3"
  },
  "language_info": {
   "codemirror_mode": {
    "name": "ipython",
    "version": 3
   },
   "file_extension": ".py",
   "mimetype": "text/x-python",
   "name": "python",
   "nbconvert_exporter": "python",
   "pygments_lexer": "ipython3",
   "version": "3.9.7"
  }
 },
 "nbformat": 4,
 "nbformat_minor": 5
}
