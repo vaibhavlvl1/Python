{
 "cells": [
  {
   "cell_type": "code",
   "execution_count": null,
   "id": "c3e52d7e-ce49-4d4f-a63f-acb0296cc848",
   "metadata": {},
   "outputs": [],
   "source": [
    "# program to find power of a number using recursion\n",
    "\n",
    "def pow(x,n):\n",
    "    if n == 0:\n",
    "        return 1\n",
    "    prod = x * pow(x,n-1)\n",
    "    \n",
    "    return prod\n",
    "\n",
    "\n",
    "a = int(input())\n",
    "b = int(input())\n",
    "print(pow(a,b))"
   ]
  },
  {
   "cell_type": "code",
   "execution_count": 9,
   "id": "0e9e65d6-72bd-4922-902b-930cff510e84",
   "metadata": {},
   "outputs": [
    {
     "name": "stdin",
     "output_type": "stream",
     "text": [
      " 1 2 3 4 5 6 7 8 9\n"
     ]
    },
    {
     "name": "stdout",
     "output_type": "stream",
     "text": [
      "45\n"
     ]
    }
   ],
   "source": [
    "# sum of array using recursion\n",
    "\n",
    "def sumArray(arr):\n",
    "    if len(arr)==0:\n",
    "        return 0\n",
    "    sums = arr[0] + sumArray(arr[1:])\n",
    "    \n",
    "    return sums\n",
    "\n",
    "\n",
    "arr = [int(x) for x in input().split()]\n",
    "print(sumArray(arr))"
   ]
  },
  {
   "cell_type": "code",
   "execution_count": 24,
   "id": "b31317e1-2945-4b1b-bc35-ac3ef5dd6d23",
   "metadata": {},
   "outputs": [
    {
     "name": "stdout",
     "output_type": "stream",
     "text": [
      "True\n"
     ]
    }
   ],
   "source": [
    "# check number is present in array\n",
    "\n",
    "def numCheck(arr,n):\n",
    "    if len(arr)==0:\n",
    "        return False\n",
    "    if arr[0] == n:\n",
    "        return True\n",
    "    x = numCheck(arr[1:],n)\n",
    "    return x\n",
    "\n",
    "arr = [1,2,3,4,5]\n",
    "print(numCheck(arr,1))"
   ]
  },
  {
   "cell_type": "code",
   "execution_count": 28,
   "id": "8a822374-8481-4966-b9d7-b4a04134575a",
   "metadata": {},
   "outputs": [
    {
     "name": "stdout",
     "output_type": "stream",
     "text": [
      "4\n"
     ]
    }
   ],
   "source": [
    "# first index of a number\n",
    "\n",
    "\n",
    "def firstIndex(arr,n,start_index):\n",
    "    if len(arr)==0:\n",
    "        return -1\n",
    "    if arr[0] ==n:\n",
    "        return start_index\n",
    "    \n",
    "    index = firstIndex(arr[1:],n,start_index+1)\n",
    "    return index\n",
    "\n",
    "arr = [1,2,3,4,5]\n",
    "print(firstIndex(arr,5,0))\n",
    "    \n",
    "    "
   ]
  },
  {
   "cell_type": "code",
   "execution_count": 55,
   "id": "6ade12da-6be3-445d-b749-e64c9c226058",
   "metadata": {},
   "outputs": [
    {
     "name": "stdout",
     "output_type": "stream",
     "text": [
      "-1\n"
     ]
    }
   ],
   "source": [
    "# last index of a number\n",
    "\n",
    "def lastIndex(arr,n,end_index,index):\n",
    "    if len(arr)==0:\n",
    "        return index\n",
    "    \n",
    "    if arr[0] ==n:\n",
    "        index = end_index\n",
    "        \n",
    "    index = lastIndex(arr[1:],n,end_index+1,index)\n",
    "    \n",
    "    return index\n",
    "\n",
    "\n",
    "n = int(input())\n",
    "li = [int(x) for x in input().split()]\n",
    "x = int(input())\n",
    "\n",
    "print(lastIndex(li,x,0,-1))"
   ]
  },
  {
   "cell_type": "code",
   "execution_count": null,
   "id": "8e3c062e-ba9c-4e4b-a272-3e3dc137c302",
   "metadata": {},
   "outputs": [],
   "source": []
  }
 ],
 "metadata": {
  "kernelspec": {
   "display_name": "Python 3 (ipykernel)",
   "language": "python",
   "name": "python3"
  },
  "language_info": {
   "codemirror_mode": {
    "name": "ipython",
    "version": 3
   },
   "file_extension": ".py",
   "mimetype": "text/x-python",
   "name": "python",
   "nbconvert_exporter": "python",
   "pygments_lexer": "ipython3",
   "version": "3.11.2"
  }
 },
 "nbformat": 4,
 "nbformat_minor": 5
}
