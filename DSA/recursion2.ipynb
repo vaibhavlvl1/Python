{
 "cells": [
  {
   "cell_type": "code",
   "execution_count": 7,
   "id": "c27f6a54-99f6-4262-8c20-435a491e120e",
   "metadata": {},
   "outputs": [
    {
     "name": "stdout",
     "output_type": "stream",
     "text": [
      "my nme is gyoubu mstk oniw \n"
     ]
    }
   ],
   "source": [
    "# remove an \"x\" from given string using recursion\n",
    "\n",
    "def remove(string,x):\n",
    "    if len(string)==0:\n",
    "        return \"\"\n",
    "    \n",
    "    if string[0] ==x:\n",
    "        return remove(string[1:],x)\n",
    "    else:\n",
    "        return string[0]+remove(string[1:],x)\n",
    "\n",
    "    \n",
    "    \n",
    "s = \"my name is gyoubu masataka oniwa \"\n",
    "print(remove(s,\"a\"))"
   ]
  },
  {
   "cell_type": "code",
   "execution_count": 9,
   "id": "cb6095b3-5f1e-42fb-bb01-ee6a4b8a8d1e",
   "metadata": {},
   "outputs": [
    {
     "name": "stdout",
     "output_type": "stream",
     "text": [
      "my name is gyoubu masataka oniwa\n"
     ]
    }
   ],
   "source": [
    "# remove duplicates recursively\n",
    "\n",
    "def remDup(s):\n",
    "    if len(s) == 1:\n",
    "        return s\n",
    "    \n",
    "    if s[0]== s[1]:\n",
    "        return remDup(s[1:])\n",
    "    else:\n",
    "        return s[0]+remDup(s[1:])\n",
    "    \n",
    "s = \"mmmmmyyyy naaaammmmeee iiiisss gggyyyyoooouuubbuuuu maaassssaaatttaaakkkaa oooonnnniiiiwwwwaaa\"\n",
    "print(remDup(s))"
   ]
  },
  {
   "cell_type": "code",
   "execution_count": 30,
   "id": "132da8a2-2867-4970-ae49-cf74219b4300",
   "metadata": {},
   "outputs": [
    {
     "name": "stdin",
     "output_type": "stream",
     "text": [
      " 8 5 3 1 7 6 9 2 4\n"
     ]
    },
    {
     "name": "stdout",
     "output_type": "stream",
     "text": [
      "1 2 3 4 5 6 7 8 9\n"
     ]
    }
   ],
   "source": [
    "# merge_sort_code\n",
    "# sorting Algo\n",
    "\n",
    "\n",
    "def merge(a1,a2,a):\n",
    "    n1 = len(a1)\n",
    "    n2 = len(a2)\n",
    "    \n",
    "    i = 0\n",
    "    j = 0\n",
    "    k = 0\n",
    "    \n",
    "    while i< n1 and j < n2:\n",
    "        if a1[i] < a2[j]:\n",
    "            a[k] = a1[i]\n",
    "            i +=1\n",
    "            k +=1\n",
    "        \n",
    "        else:\n",
    "            a[k] = a2[j]\n",
    "            j+=1\n",
    "            k+=1\n",
    "        \n",
    "    while i<n1:\n",
    "        a[k] = a1[i]\n",
    "        i+=1\n",
    "        k+=1\n",
    "    while j<n2:\n",
    "        a[k] = a2[j]\n",
    "        j+=1\n",
    "        k+=1\n",
    "\n",
    "# debug\n",
    "# a1 = [1,3,5,7,9]\n",
    "# a2 = [2,4,6,8,10,11,12]\n",
    "# a = [0]*(len(a1)+len(a2))\n",
    "# merge(a1,a2,a)\n",
    "\n",
    "\n",
    "\n",
    "def merge_sort(arr):\n",
    "    if len(arr)==1:\n",
    "        return arr\n",
    "    mid = len(arr)//2\n",
    "    a1 = arr[:mid]\n",
    "    a2 = arr[mid:]\n",
    "    \n",
    "    merge_sort(a1)\n",
    "    merge_sort(a2)\n",
    "    \n",
    "    merge(a1,a2,arr)\n",
    "    \n",
    "arr = [int(x) for x in input().split()]\n",
    "merge_sort(arr)\n",
    "print(*arr)"
   ]
  },
  {
   "cell_type": "code",
   "execution_count": 2,
   "id": "a9b1ed47-8583-4573-b6ce-c463594ef181",
   "metadata": {},
   "outputs": [
    {
     "name": "stdin",
     "output_type": "stream",
     "text": [
      " 6\n",
      " 6 5 4 3 2 1\n"
     ]
    },
    {
     "name": "stdout",
     "output_type": "stream",
     "text": [
      "1 2 3 4 5 6\n"
     ]
    }
   ],
   "source": [
    "# quick_sort \n",
    "# arguably Fastest \n",
    "\n",
    "def partition(arr,si,ei):\n",
    "    pivot = arr[si]\n",
    "    count = 0\n",
    "    for i in range(si+1,ei+1):\n",
    "        if arr[i]<pivot:\n",
    "            count +=1\n",
    "    pivot_index = si+count\n",
    "            \n",
    "    arr[si],arr[pivot_index] = arr[pivot_index],arr[si]\n",
    "    \n",
    "    i = si\n",
    "    j = len(arr)-1\n",
    "    \n",
    "    while i<j:\n",
    "        if arr[i] < pivot:\n",
    "            i +=1\n",
    "        elif arr[j] > pivot:\n",
    "            j = j-1\n",
    "        else:\n",
    "            arr[i],arr[j]=arr[j],arr[i]\n",
    "    return pivot_index\n",
    "            \n",
    "            \n",
    "def quick_sort(arr,si,ei):\n",
    "    if si>=ei:\n",
    "        return\n",
    "    pivot_index = partition(arr,si,ei)\n",
    "    \n",
    "    quick_sort(arr,si,pivot_index)\n",
    "    quick_sort(arr,pivot_index+1,ei)\n",
    "    \n",
    "\n",
    "    \n",
    "n = int(input())\n",
    "arr = [int(x) for x in input().split()]\n",
    "quick_sort(arr,0,n-1)\n",
    "print(*arr)"
   ]
  },
  {
   "cell_type": "code",
   "execution_count": 4,
   "id": "cf9ef442-ed9c-466b-9ac9-daea0099e9af",
   "metadata": {},
   "outputs": [
    {
     "name": "stdin",
     "output_type": "stream",
     "text": [
      " 2\n"
     ]
    },
    {
     "name": "stdout",
     "output_type": "stream",
     "text": [
      "s   h\n",
      "s   d\n",
      "h   d\n"
     ]
    }
   ],
   "source": [
    "# tower of hanoi\n",
    "\n",
    "# imp\n",
    "# two main steps involved\n",
    "# first move n-1 disks from source to helper via destination ( a b c)\n",
    "# move n disk from source to destination \n",
    "#move n-1 from helper to destination via source\n",
    "# 1. a to b via c ( a c b)\n",
    "# 2. b to c via a ( b a c\n",
    "\n",
    "def towerHanoi(n,a,b,c):\n",
    "    if n==1:\n",
    "        print(a,\" \",c)\n",
    "        return\n",
    "        \n",
    "    towerHanoi(n-1,a,c,b)\n",
    "    print(a,\" \",c)\n",
    "    towerHanoi(n-1,b,a,c)\n",
    "    \n",
    "n = int(input())\n",
    "towerHanoi(n,\"s\",\"h\",\"d\")\n",
    "    \n",
    "    "
   ]
  },
  {
   "cell_type": "code",
   "execution_count": null,
   "id": "eca30ab4-9117-4943-941e-036d4fb2d9b7",
   "metadata": {},
   "outputs": [],
   "source": []
  }
 ],
 "metadata": {
  "kernelspec": {
   "display_name": "Python 3 (ipykernel)",
   "language": "python",
   "name": "python3"
  },
  "language_info": {
   "codemirror_mode": {
    "name": "ipython",
    "version": 3
   },
   "file_extension": ".py",
   "mimetype": "text/x-python",
   "name": "python",
   "nbconvert_exporter": "python",
   "pygments_lexer": "ipython3",
   "version": "3.10.6"
  }
 },
 "nbformat": 4,
 "nbformat_minor": 5
}
