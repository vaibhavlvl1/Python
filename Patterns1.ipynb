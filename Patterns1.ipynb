{
 "cells": [
  {
   "cell_type": "code",
   "execution_count": null,
   "id": "54e3bbea-27a0-4679-9a5d-0d1c1ea4ce8c",
   "metadata": {},
   "outputs": [],
   "source": [
    "## square pattern\n",
    "\"\"\"\n",
    "4444\n",
    "4444\n",
    "4444\n",
    "4444\n",
    "\"\"\"\n",
    "\n",
    "\n",
    "def square(n):\n",
    "    for i in range(n):\n",
    "        for j in range(n):\n",
    "            print(n,end=\"\")\n",
    "        print()\n",
    "            \n",
    "            \n",
    "n = int(input())\n",
    "square(n)"
   ]
  },
  {
   "cell_type": "code",
   "execution_count": null,
   "id": "ce51ed63-c3fe-41a4-9670-7010758241fd",
   "metadata": {},
   "outputs": [],
   "source": [
    "## Triangular Star Pattern\n",
    "\"\"\"\n",
    "*\n",
    "**\n",
    "***\n",
    "****\n",
    "\n",
    "\"\"\"\n",
    "\n",
    "def triangularStar(n):\n",
    "    for i in range(n+1):\n",
    "        for j in range(i):\n",
    "            print(\"*\",end=\"\")\n",
    "        print()\n",
    "        \n",
    "#driver\n",
    "n = int(input())\n",
    "triangularStar(n)\n"
   ]
  },
  {
   "cell_type": "code",
   "execution_count": null,
   "id": "692b8866-b73c-4b8a-827a-19be6888ee03",
   "metadata": {},
   "outputs": [],
   "source": [
    "## Triangle Number Pattern\n",
    "# imp points\n",
    "# how to print (ex No of rows and cols)\n",
    "# What to print ( i or j or their combi)\n",
    "\n",
    "\"\"\"\n",
    "1\n",
    "22\n",
    "333\n",
    "4444      here i is printed\n",
    "\"\"\"\n",
    "\n",
    "def triangleNumPat(n):\n",
    "    for i in range(n+1):\n",
    "        for j in range(i):\n",
    "            print(i,end = \"\")\n",
    "        print()\n",
    "        \n",
    "# driver\n",
    "n = int(input())\n",
    "triangleNumPat(n)"
   ]
  },
  {
   "cell_type": "code",
   "execution_count": null,
   "id": "8f5f2e02-99cf-49e5-b500-0dfe365a758a",
   "metadata": {},
   "outputs": [],
   "source": [
    "# Reverse number pattern\n",
    "\n",
    "\"\"\"\n",
    "1\n",
    "21\n",
    "321\n",
    "4321\n",
    "\"\"\"\n",
    "\n",
    "def revNumPatt(n):\n",
    "    for i in range(n+1):\n",
    "        m = i\n",
    "        for j in range(i):\n",
    "            print(m,end=\"\")\n",
    "            m = m-1\n",
    "        print()\n",
    "        \n",
    "n = int(input())\n",
    "revNumPatt(n)"
   ]
  },
  {
   "cell_type": "code",
   "execution_count": null,
   "id": "b0a283b4-8d5e-4568-8b24-ada2ab8ec922",
   "metadata": {},
   "outputs": [],
   "source": [
    "# using while loops\n",
    "\n",
    "n = int(input())\n",
    "\n",
    "i =1\n",
    "while i<=n:\n",
    "    m = i\n",
    "    j = 1\n",
    "    while j<=i:\n",
    "        print(m,end=\"\")\n",
    "        m = m-1\n",
    "        j = j+1\n",
    "    print()\n",
    "    i = i+1\n",
    "    \n"
   ]
  },
  {
   "cell_type": "code",
   "execution_count": null,
   "id": "0ad8f307-717c-4615-8b34-52cafedd46bc",
   "metadata": {},
   "outputs": [],
   "source": [
    "# character patterns\n",
    "\"\"\"\n",
    "A\n",
    "BC\n",
    "CDE\n",
    "DEFG\n",
    "\"\"\"\n",
    "\n",
    "def charPat(n):\n",
    "    first_term = ord(\"@\")\n",
    "    for i in range(n+1):\n",
    "        second_term = first_term\n",
    "        for j in range(i):\n",
    "            print(chr(second_term),end=\"\")\n",
    "            second_term=second_term+1\n",
    "        print()\n",
    "        first_term = first_term+1\n",
    "        \n",
    "n = int(input())\n",
    "charPat(n)"
   ]
  },
  {
   "cell_type": "code",
   "execution_count": 2,
   "id": "1a3d41f4-6a36-4d82-98c3-81b92f04b873",
   "metadata": {},
   "outputs": [
    {
     "name": "stdin",
     "output_type": "stream",
     "text": [
      " 4\n"
     ]
    },
    {
     "name": "stdout",
     "output_type": "stream",
     "text": [
      "A\n",
      "BC\n",
      "CDE\n",
      "DEFG\n"
     ]
    }
   ],
   "source": [
    "# using while loop\n",
    "n = int(input())\n",
    "\n",
    "ft = ord(\"A\")\n",
    "\n",
    "i = 1\n",
    "while i<=n:\n",
    "    st = ft\n",
    "    j = 1\n",
    "    while j<=i:\n",
    "        print(chr(st),end=\"\")\n",
    "        st = st+1\n",
    "        j = j+1\n",
    "    print()\n",
    "    ft = ft+1\n",
    "    i = i+1\n"
   ]
  },
  {
   "cell_type": "code",
   "execution_count": null,
   "id": "10c4e63e-98c8-4ac6-84a4-c4d740714ebd",
   "metadata": {},
   "outputs": [],
   "source": [
    "# interesting alphabets\n",
    "\"\"\"\n",
    "E\n",
    "DE\n",
    "CDE\n",
    "BCDE\n",
    "ABCDE\n",
    "\n",
    "\"\"\"\n",
    "\n",
    "n = int(input())\n",
    "# using while loop\n",
    "i = 1\n",
    "ft = ord(\"A\")+n-1\n",
    "while i<=n:\n",
    "    st = ft\n",
    "    j = 1\n",
    "    while j<=i:\n",
    "        print(chr(st),end=\"\")\n",
    "        st = st+1\n",
    "        j = j+1\n",
    "        \n",
    "    print()\n",
    "    ft = ft-1\n",
    "    i = i+1"
   ]
  },
  {
   "cell_type": "code",
   "execution_count": 20,
   "id": "5ad0351c-7931-4347-af80-0d03fd38fc87",
   "metadata": {},
   "outputs": [
    {
     "name": "stdin",
     "output_type": "stream",
     "text": [
      " 8\n"
     ]
    },
    {
     "name": "stdout",
     "output_type": "stream",
     "text": [
      "\n",
      "H\n",
      "GH\n",
      "FGH\n",
      "EFGH\n",
      "DEFGH\n",
      "CDEFGH\n",
      "BCDEFGH\n",
      "ABCDEFGH\n"
     ]
    }
   ],
   "source": [
    "# for loop\n",
    "\n",
    "\n",
    "def intAlpha(n):\n",
    "    ft = ord(\"A\")+n\n",
    "    for i in range(n+1):\n",
    "        st = ft\n",
    "        for j in range(i):\n",
    "            print(chr(st),end=\"\")\n",
    "            st = st+1\n",
    "            \n",
    "        ft = ft-1\n",
    "        print()\n",
    "n = int(input())\n",
    "intAlpha(n)"
   ]
  },
  {
   "cell_type": "markdown",
   "id": "85449ee4-413b-4e79-94e9-5cea500e3111",
   "metadata": {},
   "source": [
    "## Assignments"
   ]
  },
  {
   "cell_type": "code",
   "execution_count": 23,
   "id": "86d23f83-802d-4455-931e-6939e1da2093",
   "metadata": {},
   "outputs": [
    {
     "name": "stdin",
     "output_type": "stream",
     "text": [
      " 6\n"
     ]
    },
    {
     "name": "stdout",
     "output_type": "stream",
     "text": [
      "1\n",
      "11\n",
      "111\n",
      "1111\n",
      "11111\n",
      "111111\n"
     ]
    }
   ],
   "source": [
    "# Number Pattern 1\n",
    "\n",
    "\"\"\"\n",
    "1\n",
    "11\n",
    "111\n",
    "1111\n",
    "\"\"\"\n",
    "n = int(input())\n",
    "i = 1\n",
    "while i<=n:\n",
    "    j = 1\n",
    "    while j<=i:\n",
    "        print(\"1\",end=\"\")\n",
    "        j = j+1\n",
    "    i = i+1\n",
    "    print()"
   ]
  },
  {
   "cell_type": "code",
   "execution_count": null,
   "id": "84d505f7-a734-4e89-afec-099a31dd7a8d",
   "metadata": {},
   "outputs": [],
   "source": [
    "# Number pattern 2\n",
    "\n",
    "\"\"\"\n",
    "1\n",
    "11\n",
    "202\n",
    "3003\n",
    "\"\"\"\n",
    "\n",
    "n = int(input())\n",
    "print(\"1\")\n",
    "i = 1\n",
    "while i<n:\n",
    "    print(i,end=\"\")\n",
    "    print(\"0\"*(i-1),end=\"\")\n",
    "    print(i)\n",
    "    i = i+1"
   ]
  },
  {
   "cell_type": "code",
   "execution_count": 33,
   "id": "d8bd3799-99b6-4d36-91a1-a016968ac4a4",
   "metadata": {},
   "outputs": [
    {
     "name": "stdin",
     "output_type": "stream",
     "text": [
      " 2\n"
     ]
    },
    {
     "name": "stdout",
     "output_type": "stream",
     "text": [
      "1\n",
      "11\n"
     ]
    }
   ],
   "source": [
    "# Number pattern 3\n",
    "\"\"\"\n",
    "1\n",
    "11\n",
    "121\n",
    "1221\n",
    "\"\"\"\n",
    "\n",
    "n = int(input())\n",
    "if n ==0:\n",
    "    print(\"\")\n",
    "else:\n",
    "    print(\"1\")\n",
    "    i = 1\n",
    "    while i<n:\n",
    "        print(\"1\",end=\"\")\n",
    "        print(\"2\"*(i-1),end=\"\")\n",
    "        print(\"1\")\n",
    "        i = i+1"
   ]
  },
  {
   "cell_type": "code",
   "execution_count": 42,
   "id": "842d2b3d-f296-44b9-8c0c-9c31169a53d1",
   "metadata": {},
   "outputs": [
    {
     "name": "stdin",
     "output_type": "stream",
     "text": [
      " 9\n"
     ]
    },
    {
     "name": "stdout",
     "output_type": "stream",
     "text": [
      "123456789\n",
      "12345678\n",
      "1234567\n",
      "123456\n",
      "12345\n",
      "1234\n",
      "123\n",
      "12\n",
      "1\n"
     ]
    }
   ],
   "source": [
    "## number pattern 4\n",
    "\n",
    "\"\"\"\n",
    "1234\n",
    "123\n",
    "12\n",
    "1\n",
    "\"\"\"\n",
    "\n",
    "n = int(input())\n",
    "\n",
    "i = n\n",
    "while i>=1:\n",
    "    j = 1\n",
    "    while j<=i:\n",
    "        print(j,end=\"\")\n",
    "        j = j+1\n",
    "    print()\n",
    "    i = i-1"
   ]
  },
  {
   "cell_type": "code",
   "execution_count": 48,
   "id": "777152b8-112b-4b6a-ab94-5cbe1b96ff44",
   "metadata": {},
   "outputs": [
    {
     "name": "stdin",
     "output_type": "stream",
     "text": [
      " 1\n"
     ]
    },
    {
     "name": "stdout",
     "output_type": "stream",
     "text": [
      "A\n"
     ]
    }
   ],
   "source": [
    "# Alphabet Pattern\n",
    "\"\"\"\n",
    "A\n",
    "BB\n",
    "CCC\n",
    "\"\"\"\n",
    "\n",
    "n = int(input())\n",
    "i = 1\n",
    "term = ord(\"A\")\n",
    "while i<=n:\n",
    "    \n",
    "    j = 1\n",
    "    while j<=i:\n",
    "        print(chr(term),end=\"\")\n",
    "        j = j+1\n",
    "    print()\n",
    "    i = i+1\n",
    "    term +=1"
   ]
  },
  {
   "cell_type": "code",
   "execution_count": null,
   "id": "0b579d7f-e822-4f72-ad9e-ee7d85a46096",
   "metadata": {},
   "outputs": [],
   "source": []
  }
 ],
 "metadata": {
  "kernelspec": {
   "display_name": "Python 3 (ipykernel)",
   "language": "python",
   "name": "python3"
  },
  "language_info": {
   "codemirror_mode": {
    "name": "ipython",
    "version": 3
   },
   "file_extension": ".py",
   "mimetype": "text/x-python",
   "name": "python",
   "nbconvert_exporter": "python",
   "pygments_lexer": "ipython3",
   "version": "3.9.7"
  }
 },
 "nbformat": 4,
 "nbformat_minor": 5
}
