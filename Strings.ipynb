{
 "cells": [
  {
   "cell_type": "code",
   "execution_count": null,
   "id": "94ac3e24-f054-45e4-b602-e065240c6f90",
   "metadata": {},
   "outputs": [],
   "source": [
    "# Check Palindrome\n",
    "\n",
    "# simple using string slicing\n",
    "# time complexity = O(n) where n is slice length\n",
    "\n",
    "def checkPalindrome(string):\n",
    "    if string==string[::-1]:\n",
    "        return True\n",
    "    return False\n",
    "\n",
    "\n",
    "word = input().lower()\n",
    "print(checkPalindrome(word))"
   ]
  },
  {
   "cell_type": "markdown",
   "id": "15e8d27b-85fe-4854-8261-1e13d9750f3b",
   "metadata": {},
   "source": [
    "# Assignments"
   ]
  },
  {
   "cell_type": "code",
   "execution_count": null,
   "id": "b1110059-10bb-417b-bc33-b4e1bc91133c",
   "metadata": {},
   "outputs": [],
   "source": [
    "# check permutations\n",
    "# TC = O(n)\n",
    "# errors in some cases\n",
    "\n",
    "def checkPermutation(A1,A2):\n",
    "    if len(A1) != len(A2):\n",
    "        return False\n",
    "    d = {}\n",
    "    for i in A1:\n",
    "        d[i] = 0\n",
    "    for j in A2:\n",
    "        try:\n",
    "            del d[j]\n",
    "        except KeyError:\n",
    "            pass\n",
    "    if d=={}:\n",
    "        return True\n",
    "    return False\n",
    "\n",
    "\n",
    "a = input().strip()\n",
    "b = input().strip()\n",
    "\n",
    "checkPermutation(a,b)"
   ]
  },
  {
   "cell_type": "code",
   "execution_count": null,
   "id": "73c9bd24-38e2-4634-a1a6-8369c20e8331",
   "metadata": {},
   "outputs": [],
   "source": [
    "# frequency array method\n",
    "# all cases passed\n",
    "# time complexity = O(max(n,m))\n",
    "def checkPerm(A1,A2):\n",
    "    if len(A1)!=len(A2):\n",
    "        return False\n",
    "    freq = [0]*256\n",
    "    \n",
    "    for ele in A1:\n",
    "        freq[ord(ele)] +=1\n",
    "    for ele in A2:\n",
    "        freq[ord(ele)] -=1\n",
    "        \n",
    "    if freq == [0]*256:\n",
    "        return True\n",
    "    return False\n",
    "\n",
    "\n",
    "\n",
    "\n",
    "s1 = input().strip()  # this is imp\n",
    "s2 = input().strip()\n",
    "\n",
    "if checkPerm(s1,s2):\n",
    "    print(\"true\")\n",
    "    \n",
    "else:\n",
    "    print(\"false\")"
   ]
  },
  {
   "cell_type": "code",
   "execution_count": null,
   "id": "5a4bfb05-0488-4432-947c-ffa2da693276",
   "metadata": {},
   "outputs": [],
   "source": [
    "# Remove consecutive duplicates\n",
    "# TC = O(n)\n",
    "\n",
    "def remConDuplicates(string):\n",
    "    n = len(string)\n",
    "    res = \"\"\n",
    "    for i in range(1,len(string)):\n",
    "        if string[i-1] !=string[i]:\n",
    "            res +=string[i-1]\n",
    "            \n",
    "    return res\n",
    "    \n",
    "#MAIN\n",
    "str=input()\n",
    "print(remConDuplicates(str))\n",
    "    "
   ]
  },
  {
   "cell_type": "code",
   "execution_count": null,
   "id": "6fcca5ca-a7ab-44d0-bab2-1ec9e29dacd6",
   "metadata": {},
   "outputs": [],
   "source": [
    "# reverse each word in a string\n",
    "# TC = O(n)\n",
    "\n",
    "def revEachWord(sentence):\n",
    "    words = sentence.split()\n",
    "    \n",
    "    for i in range(len(words)):\n",
    "        words[i] = words[i][::-1]\n",
    "        \n",
    "    print(words)\n",
    "sent = input()\n",
    "revEachWord(sent)\n",
    "        \n",
    "        "
   ]
  },
  {
   "cell_type": "code",
   "execution_count": null,
   "id": "916853f6-e397-47e3-8b41-40bb0a3f3392",
   "metadata": {},
   "outputs": [],
   "source": [
    "# remove a char from a string\n",
    "# TC = O(n)\n",
    "\n",
    "def remove(string,k):\n",
    "    res = \"\"\n",
    "    for i in string:\n",
    "        if i!=k:\n",
    "            res += i\n",
    "    print(res)\n",
    "    \n",
    "\n",
    "string = input()\n",
    "toRemove = input()\n",
    "remove(string,toRemove)\n",
    "        "
   ]
  },
  {
   "cell_type": "code",
   "execution_count": 29,
   "id": "46974a5a-829f-4c12-b25d-a6fb6fa4cc43",
   "metadata": {},
   "outputs": [
    {
     "name": "stdout",
     "output_type": "stream",
     "text": [
      "a\n"
     ]
    }
   ],
   "source": [
    "# highest occuring character\n",
    "# dictionary method\n",
    "# something wrong with test case 3\n",
    "# submitting 3 times gets all submitted\n",
    "# test case 3 output is cycling from 1 to n\n",
    "\n",
    "def highestOccuringCharacter(string):\n",
    "    d= {}\n",
    "    for i in string:\n",
    "        d[i] = d.get(i,0)+1\n",
    "        \n",
    "    max = 0\n",
    "    for value in d.values():\n",
    "        if max < value:\n",
    "            max = value\n",
    "            \n",
    "    for i in d:\n",
    "        if d[i] == max:\n",
    "            return i\n",
    "        \n",
    "string = input()\n",
    "print(highestOccuringCharacter(string))\n",
    "        "
   ]
  },
  {
   "cell_type": "code",
   "execution_count": 32,
   "id": "bccf6d19-8690-4bc3-af5b-3002ac4f4492",
   "metadata": {},
   "outputs": [
    {
     "data": {
      "text/plain": [
       "'a'"
      ]
     },
     "execution_count": 32,
     "metadata": {},
     "output_type": "execute_result"
    }
   ],
   "source": [
    "# Freq table method\n",
    "# TC = O(n)\n",
    "\n",
    "\n",
    "def HoC(st):\n",
    "    l = len(st)\n",
    "    freq = [0]*256\n",
    "    max = 0\n",
    "    for ele in st:\n",
    "        freq[ord(ele)]+=1\n",
    "        if max<freq[ord(ele)]:\n",
    "            max = freq[ord(ele)]\n",
    "            \n",
    "    for ele in st:\n",
    "        if freq[ord(ele)] == max:\n",
    "            return ele\n",
    "            \n",
    "st = \"abbbbbccccccccvvaaaaaaaaaaaaaa\"\n",
    "HoC(st)"
   ]
  },
  {
   "cell_type": "code",
   "execution_count": 43,
   "id": "c597d385-ee9a-484c-865c-cbb11906ef26",
   "metadata": {},
   "outputs": [
    {
     "name": "stdin",
     "output_type": "stream",
     "text": [
      " aaaabbbbbcccccd\n"
     ]
    },
    {
     "name": "stdout",
     "output_type": "stream",
     "text": [
      "a4b5c5d\n"
     ]
    }
   ],
   "source": [
    "# compress string\n",
    "# TC = O(n)\n",
    "\n",
    "def compress(s):\n",
    "    res = \"\"\n",
    "    count = 1\n",
    "    for i in range(len(s)-1):\n",
    "        if s[i]==s[i+1]:\n",
    "            count +=1\n",
    "        else:\n",
    "            if count!=1:\n",
    "            \tres = res+s[i]+str(count)\n",
    "            else:\n",
    "                res = res+s[i]\n",
    "            \n",
    "            count = 1\n",
    "    res=res+s[-1]\n",
    "    if count>1:\n",
    "        res = res+str(count)\n",
    "    return res\n",
    "\n",
    "\n",
    "s = input()\n",
    "\n",
    "print(compress(s))\n",
    "        \n",
    "    "
   ]
  },
  {
   "cell_type": "code",
   "execution_count": null,
   "id": "2512aec4-58e7-4cac-8576-976556b90455",
   "metadata": {},
   "outputs": [],
   "source": []
  }
 ],
 "metadata": {
  "kernelspec": {
   "display_name": "Python 3 (ipykernel)",
   "language": "python",
   "name": "python3"
  },
  "language_info": {
   "codemirror_mode": {
    "name": "ipython",
    "version": 3
   },
   "file_extension": ".py",
   "mimetype": "text/x-python",
   "name": "python",
   "nbconvert_exporter": "python",
   "pygments_lexer": "ipython3",
   "version": "3.10.6"
  }
 },
 "nbformat": 4,
 "nbformat_minor": 5
}
