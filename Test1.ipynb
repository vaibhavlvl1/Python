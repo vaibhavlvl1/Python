{
 "cells": [
  {
   "cell_type": "code",
   "execution_count": 7,
   "id": "816a8571-72aa-46df-8e8d-3bc34dc0c22d",
   "metadata": {},
   "outputs": [
    {
     "name": "stdin",
     "output_type": "stream",
     "text": [
      " 4\n"
     ]
    },
    {
     "name": "stdout",
     "output_type": "stream",
     "text": [
      "*000*000*\n",
      "0*00*00*0\n",
      "00*0*0*00\n",
      "000***000\n"
     ]
    }
   ],
   "source": [
    "# Test 1\n",
    "\n",
    "# Zeros And Star Pattern\n",
    "\n",
    "\"\"\"\n",
    "n = 4 \n",
    "* 0 0 0 * 0 0 0 *\n",
    "0 * 0 0 * 0 0 * 0\n",
    "0 0 * 0 * 0 * 0 0\n",
    "0 0 0 * * * 0 0 0 \n",
    "\n",
    "\"\"\"\n",
    "n = int(input())\n",
    "for i in range(n):\n",
    "    for j in range(n):\n",
    "        if i ==j:\n",
    "            print(\"*\",end=\"\")\n",
    "        else:\n",
    "            print(\"0\",end = \"\")\n",
    "    \n",
    "    print(\"*\",end=\"\")\n",
    "    \n",
    "    for j in range(n):\n",
    "        if j == (n-i-1):\n",
    "            print(\"*\",end = \"\")\n",
    "        else:\n",
    "            print(\"0\",end=\"\")\n",
    "    \n",
    "    \n",
    "    print()"
   ]
  },
  {
   "cell_type": "code",
   "execution_count": null,
   "id": "9cb13ef8-0617-4fec-be4f-63dd5c605498",
   "metadata": {},
   "outputs": [],
   "source": []
  }
 ],
 "metadata": {
  "kernelspec": {
   "display_name": "Python 3 (ipykernel)",
   "language": "python",
   "name": "python3"
  },
  "language_info": {
   "codemirror_mode": {
    "name": "ipython",
    "version": 3
   },
   "file_extension": ".py",
   "mimetype": "text/x-python",
   "name": "python",
   "nbconvert_exporter": "python",
   "pygments_lexer": "ipython3",
   "version": "3.10.6"
  }
 },
 "nbformat": 4,
 "nbformat_minor": 5
}
